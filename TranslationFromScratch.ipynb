{
 "cells": [
  {
   "cell_type": "code",
   "execution_count": 2,
   "metadata": {
    "id": "DPQTZko6LMsF"
   },
   "outputs": [],
   "source": [
    "import sys\n",
    "assert sys.version_info >= (3, 5)\n",
    "import sklearn\n",
    "assert sklearn.__version__ >= \"0.20\"\n",
    "import tensorflow as tf\n",
    "import string\n",
    "import re\n",
    "assert tf.__version__ >= \"2.0\"\n",
    "import numpy as np\n",
    "import os\n",
    "import keras\n",
    "import random\n",
    "import subprocess\n",
    "from nltk.translate.bleu_score import corpus_bleu, sentence_bleu, SmoothingFunction\n",
    "np.random.seed(42)\n",
    "\n",
    "%matplotlib inline\n",
    "import matplotlib as mpl\n",
    "import matplotlib.pyplot as plt\n",
    "mpl.rc('axes', labelsize=14)\n",
    "mpl.rc('xtick', labelsize=12)\n",
    "mpl.rc('ytick', labelsize=12)\n",
    "\n",
    "import warnings\n",
    "warnings.filterwarnings(action=\"ignore\", message=\"^internal gelsd\")\n",
    "#print(subprocess.check_output(\"nvidia-smi --query-gpu=name --format=csv\").decode(\"ascii\"))\n",
    "#print(subprocess.check_output(\"nvidia-smi --query-gpu=memory.total --format=csv\").decode(\"ascii\"))"
   ]
  },
  {
   "cell_type": "code",
   "execution_count": 3,
   "metadata": {
    "colab": {
     "base_uri": "https://localhost:8080/"
    },
    "id": "xYhzQXWdMJjs",
    "outputId": "ab1b2186-7cb8-43c9-ec05-7f662a707b6e"
   },
   "outputs": [
    {
     "name": "stdout",
     "output_type": "stream",
     "text": [
      "Tamanho do Dataset : 2251342\n",
      "Tamanho usado : 100000\n"
     ]
    }
   ],
   "source": [
    "\n",
    "text_file = \"C:\\\\Users\\\\Emanuel\\\\Desktop\\\\AD\\\\TP2\\\\WikiMatrix.es-pt.tsv\"\n",
    "with open(text_file, encoding=\"utf8\") as f:\n",
    "    lines = f.read().split(\"\\n\")[:-1]\n",
    "text_pairs = []\n",
    "for line in lines:\n",
    "    _, es, pt = line.split(\"\\t\")\n",
    "    pt = \"[start] \" + pt + \" [end]\"\n",
    "    text_pairs.append((es, pt))\n",
    "del lines\n",
    "del _\n",
    "print(f\"Tamanho do Dataset : {len(text_pairs)}\")\n",
    "text_pairs = random.sample(text_pairs, 100000)\n",
    "print(f\"Tamanho usado : {len(text_pairs)}\")"
   ]
  },
  {
   "cell_type": "code",
   "execution_count": 4,
   "metadata": {
    "colab": {
     "base_uri": "https://localhost:8080/"
    },
    "id": "CvKNP9ZtMRS4",
    "outputId": "842153f7-d680-4de4-d946-ef5240d204ae"
   },
   "outputs": [
    {
     "name": "stdout",
     "output_type": "stream",
     "text": [
      "1 :  ('Centro de Guerra de la Fuerza Aérea de Estados Unidos (USAFWC), Base de la Fuerza Aérea Nellis, Nevada.', '[start] A Força Aérea dos Estados Unidos atualmente tem uma escola similar, chamada de United States Air Force Fighter Weapons School em Nellis Air Force Base, Nevada. [end]')\n",
      "2 :  ('«¿Por qué se hizo?».', '[start] Por que ele fez aquilo?\" [end]')\n",
      "3 :  ('En caso de accidente o malestar, se deberá acudir inmediatamente al médico (si es posible, mostrarle la etiqueta).', '[start] Se o gatilho for conhecido, deve ser removido se possível (por exemplo, a causa da dor). [end]')\n"
     ]
    }
   ],
   "source": [
    "for x in range(3):\n",
    "  print(x+1 , \": \", random.choice(text_pairs))"
   ]
  },
  {
   "cell_type": "code",
   "execution_count": 6,
   "metadata": {
    "id": "Terv66lhM4X5"
   },
   "outputs": [],
   "source": [
    "# Dividir o datastet em 3 conjuntos: treino, validação e teste\n",
    "random.shuffle(text_pairs)\n",
    "num_val_samples = int(0.15 * len(text_pairs))\n",
    "num_train_samples = len(text_pairs) - 2 * num_val_samples\n",
    "train_pairs = text_pairs[:num_train_samples]\n",
    "val_pairs = text_pairs[num_train_samples:num_train_samples + num_val_samples]\n",
    "test_pairs = text_pairs[num_train_samples + num_val_samples:]"
   ]
  },
  {
   "cell_type": "code",
   "execution_count": 7,
   "metadata": {
    "id": "hX1CnrGxPax4"
   },
   "outputs": [],
   "source": [
    "from tensorflow.keras import layers\n",
    "\n",
    "strip_chars = string.punctuation\n",
    "strip_chars = strip_chars.replace(\"[\", \"\")\n",
    "strip_chars = strip_chars.replace(\"]\", \"\")\n",
    "strip_chars += \"«»—–ºª\"\n",
    "\n",
    "\n",
    "\n",
    "def custom_standardization(input_string):\n",
    "    lowercase = tf.strings.lower(input_string)\n",
    "    lowercase = tf.strings.regex_replace(lowercase, \"\\\\xa0\", \"\")\n",
    "    lowercase = tf.strings.regex_replace(lowercase, \"\\\\[\\w\\d]+\", \"\")\n",
    "    return tf.strings.regex_replace(lowercase, f\"[{re.escape(strip_chars)}]\", \"\")\n",
    "\n",
    "vocab_size = 15000\n",
    "sequence_length = 20\n",
    "\n",
    "source_vectorization = layers.TextVectorization(\n",
    "    max_tokens=vocab_size,\n",
    "    output_mode=\"int\",\n",
    "    output_sequence_length=sequence_length,\n",
    "    standardize=custom_standardization\n",
    ")\n",
    "target_vectorization = layers.TextVectorization(\n",
    "    max_tokens=vocab_size,\n",
    "    output_mode=\"int\",\n",
    "    output_sequence_length=sequence_length + 1,\n",
    "    standardize=custom_standardization\n",
    ")\n",
    "train_es_texts = [pair[0] for pair in train_pairs]\n",
    "train_pt_texts = [pair[1] for pair in train_pairs]\n",
    "source_vectorization.adapt(train_es_texts)\n",
    "target_vectorization.adapt(train_pt_texts)"
   ]
  },
  {
   "cell_type": "code",
   "execution_count": null,
   "metadata": {
    "colab": {
     "base_uri": "https://localhost:8080/"
    },
    "id": "xY0Eqvx_JRgH",
    "outputId": "fed7a3c6-3e52-4405-d244-ad54db3e16af"
   },
   "outputs": [],
   "source": [
    "#source_vectorization.get_vocabulary()\n",
    "#target_vectorization.get_vocabulary()"
   ]
  },
  {
   "cell_type": "code",
   "execution_count": 7,
   "metadata": {
    "id": "yjNBmkmaQE1K"
   },
   "outputs": [],
   "source": [
    "batch_size = 64\n",
    "\n",
    "def format_dataset(es, pt):\n",
    "    es = source_vectorization(es)\n",
    "    pt = target_vectorization(pt)\n",
    "    return ({\n",
    "        \"spanish\": es,\n",
    "        \"portuguese\": pt[:, :-1],\n",
    "    }, pt[:, 1:])\n",
    "\n",
    "def make_dataset(pairs):\n",
    "    es_texts, pt_texts = zip(*pairs)\n",
    "    es_texts = list(es_texts)\n",
    "    pt_texts = list(pt_texts)\n",
    "    dataset = tf.data.Dataset.from_tensor_slices((es_texts, pt_texts))\n",
    "    dataset = dataset.batch(batch_size)\n",
    "    dataset = dataset.map(format_dataset, num_parallel_calls=4)\n",
    "    return dataset.shuffle(2048).prefetch(16).cache()\n",
    "\n",
    "train_ds = make_dataset(train_pairs)\n",
    "val_ds = make_dataset(val_pairs)"
   ]
  },
  {
   "cell_type": "code",
   "execution_count": 8,
   "metadata": {
    "id": "7r7M3lbPTCYx"
   },
   "outputs": [],
   "source": [
    "class TransformerEncoder(layers.Layer):\n",
    "    def __init__(self, embed_dim, dense_dim, num_heads, **kwargs):\n",
    "        super().__init__(**kwargs)\n",
    "        self.embed_dim = embed_dim\n",
    "        self.dense_dim = dense_dim\n",
    "        self.num_heads = num_heads\n",
    "        self.attention = layers.MultiHeadAttention(\n",
    "            num_heads=num_heads, key_dim=embed_dim)\n",
    "        self.dense_proj = keras.Sequential(\n",
    "            [layers.Dense(dense_dim, activation=\"relu\"),\n",
    "             layers.Dense(embed_dim),]\n",
    "        )\n",
    "        self.layernorm_1 = layers.LayerNormalization()\n",
    "        self.layernorm_2 = layers.LayerNormalization()\n",
    "\n",
    "    def call(self, inputs, mask=None):\n",
    "        if mask is not None:\n",
    "            mask = mask[:, tf.newaxis, :]\n",
    "        attention_output = self.attention(\n",
    "            inputs, inputs, attention_mask=mask)\n",
    "        proj_input = self.layernorm_1(inputs + attention_output)\n",
    "        proj_output = self.dense_proj(proj_input)\n",
    "        return self.layernorm_2(proj_input + proj_output)\n",
    "\n",
    "    def get_config(self):\n",
    "        config = super().get_config()\n",
    "        config.update({\n",
    "            \"embed_dim\": self.embed_dim,\n",
    "            \"num_heads\": self.num_heads,\n",
    "            \"dense_dim\": self.dense_dim,\n",
    "        })\n",
    "        return config"
   ]
  },
  {
   "cell_type": "code",
   "execution_count": 9,
   "metadata": {
    "id": "1jFFDfMoQdER"
   },
   "outputs": [],
   "source": [
    "class TransformerDecoder(layers.Layer):\n",
    "    def __init__(self, embed_dim, dense_dim, num_heads, **kwargs):\n",
    "        super().__init__(**kwargs)\n",
    "        self.embed_dim = embed_dim\n",
    "        self.dense_dim = dense_dim\n",
    "        self.num_heads = num_heads\n",
    "        self.attention_1 = layers.MultiHeadAttention(\n",
    "            num_heads=num_heads, key_dim=embed_dim)\n",
    "        self.attention_2 = layers.MultiHeadAttention(\n",
    "            num_heads=num_heads, key_dim=embed_dim)\n",
    "        self.dense_proj = keras.Sequential(\n",
    "            [layers.Dense(dense_dim, activation=\"relu\"),\n",
    "             layers.Dense(embed_dim),]\n",
    "        )\n",
    "        self.layernorm_1 = layers.LayerNormalization()\n",
    "        self.layernorm_2 = layers.LayerNormalization()\n",
    "        self.layernorm_3 = layers.LayerNormalization()\n",
    "        self.supports_masking = True\n",
    "\n",
    "    def get_config(self):\n",
    "        config = super().get_config()\n",
    "        config.update({\n",
    "            \"embed_dim\": self.embed_dim,\n",
    "            \"num_heads\": self.num_heads,\n",
    "            \"dense_dim\": self.dense_dim,\n",
    "        })\n",
    "        return config\n",
    "\n",
    "    def get_causal_attention_mask(self, inputs):\n",
    "        input_shape = tf.shape(inputs)\n",
    "        batch_size, sequence_length = input_shape[0], input_shape[1]\n",
    "        i = tf.range(sequence_length)[:, tf.newaxis]\n",
    "        j = tf.range(sequence_length)\n",
    "        mask = tf.cast(i >= j, dtype=\"int32\")\n",
    "        mask = tf.reshape(mask, (1, input_shape[1], input_shape[1]))\n",
    "        mult = tf.concat(\n",
    "            [tf.expand_dims(batch_size, -1),\n",
    "             tf.constant([1, 1], dtype=tf.int32)], axis=0)\n",
    "        return tf.tile(mask, mult)\n",
    "\n",
    "    def call(self, inputs, encoder_outputs, mask=None):\n",
    "        causal_mask = self.get_causal_attention_mask(inputs)\n",
    "        if mask is not None:\n",
    "            padding_mask = tf.cast(\n",
    "                mask[:, tf.newaxis, :], dtype=\"int32\")\n",
    "            padding_mask = tf.minimum(padding_mask, causal_mask)\n",
    "        attention_output_1 = self.attention_1(\n",
    "            query=inputs,\n",
    "            value=inputs,\n",
    "            key=inputs,\n",
    "            attention_mask=causal_mask)\n",
    "        attention_output_1 = self.layernorm_1(inputs + attention_output_1)\n",
    "        attention_output_2 = self.attention_2(\n",
    "            query=attention_output_1,\n",
    "            value=encoder_outputs,\n",
    "            key=encoder_outputs,\n",
    "            attention_mask=padding_mask,\n",
    "        )\n",
    "        attention_output_2 = self.layernorm_2(\n",
    "            attention_output_1 + attention_output_2)\n",
    "        proj_output = self.dense_proj(attention_output_2)\n",
    "        return self.layernorm_3(attention_output_2 + proj_output)"
   ]
  },
  {
   "cell_type": "code",
   "execution_count": 10,
   "metadata": {
    "id": "4jfXOf3nTMOl"
   },
   "outputs": [],
   "source": [
    "class PositionalEmbedding(layers.Layer):\n",
    "    def __init__(self, sequence_length, input_dim, output_dim, **kwargs):\n",
    "        super().__init__(**kwargs)\n",
    "        self.token_embeddings = layers.Embedding(\n",
    "            input_dim=input_dim, output_dim=output_dim)\n",
    "        self.position_embeddings = layers.Embedding(\n",
    "            input_dim=sequence_length, output_dim=output_dim)\n",
    "        self.sequence_length = sequence_length\n",
    "        self.input_dim = input_dim\n",
    "        self.output_dim = output_dim\n",
    "\n",
    "    def call(self, inputs):\n",
    "        length = tf.shape(inputs)[-1]\n",
    "        positions = tf.range(start=0, limit=length, delta=1)\n",
    "        embedded_tokens = self.token_embeddings(inputs)\n",
    "        embedded_positions = self.position_embeddings(positions)\n",
    "        return embedded_tokens + embedded_positions\n",
    "\n",
    "    def compute_mask(self, inputs, mask=None):\n",
    "        return tf.math.not_equal(inputs, 0)\n",
    "\n",
    "    def get_config(self):\n",
    "        config = super(PositionalEmbedding, self).get_config()\n",
    "        config.update({\n",
    "            \"output_dim\": self.output_dim,\n",
    "            \"sequence_length\": self.sequence_length,\n",
    "            \"input_dim\": self.input_dim,\n",
    "        })\n",
    "        return config"
   ]
  },
  {
   "cell_type": "code",
   "execution_count": 11,
   "metadata": {
    "id": "JW_VGzs1TPcZ"
   },
   "outputs": [],
   "source": [
    "embed_dim = 256\n",
    "dense_dim = 2048\n",
    "num_heads = 8\n",
    "\n",
    "encoder_inputs = keras.Input(shape=(None,), dtype=\"int64\", name=\"spanish\")\n",
    "x = PositionalEmbedding(sequence_length, vocab_size, embed_dim)(encoder_inputs)\n",
    "encoder_outputs = TransformerEncoder(embed_dim, dense_dim, num_heads)(x)\n",
    "\n",
    "decoder_inputs = keras.Input(shape=(None,), dtype=\"int64\", name=\"portuguese\")\n",
    "x = PositionalEmbedding(sequence_length, vocab_size, embed_dim)(decoder_inputs)\n",
    "x = TransformerDecoder(embed_dim, dense_dim, num_heads)(x, encoder_outputs)\n",
    "decoder_outputs = layers.Dense(vocab_size, activation=\"softmax\")(x)\n",
    "\n",
    "transformer = keras.Model([encoder_inputs, decoder_inputs], decoder_outputs)"
   ]
  },
  {
   "cell_type": "code",
   "execution_count": 12,
   "metadata": {
    "colab": {
     "base_uri": "https://localhost:8080/"
    },
    "id": "FdhUT_gqTX8w",
    "outputId": "56e04150-07d2-4101-d8c0-f2763e1f1788"
   },
   "outputs": [
    {
     "name": "stdout",
     "output_type": "stream",
     "text": [
      "Epoch 1/10\n",
      "1094/1094 [==============================] - 48s 41ms/step - loss: 5.4226 - accuracy: 0.1467 - val_loss: 5.0131 - val_accuracy: 0.1687\n",
      "Epoch 2/10\n",
      "1094/1094 [==============================] - 45s 41ms/step - loss: 4.9857 - accuracy: 0.1760 - val_loss: 4.8270 - val_accuracy: 0.1913\n",
      "Epoch 3/10\n",
      "1094/1094 [==============================] - 44s 40ms/step - loss: 4.8356 - accuracy: 0.1916 - val_loss: 4.7080 - val_accuracy: 0.2050\n",
      "Epoch 4/10\n",
      "1094/1094 [==============================] - 44s 40ms/step - loss: 4.7376 - accuracy: 0.2024 - val_loss: 4.6275 - val_accuracy: 0.2123\n",
      "Epoch 5/10\n",
      "1094/1094 [==============================] - 44s 40ms/step - loss: 4.6670 - accuracy: 0.2083 - val_loss: 4.5658 - val_accuracy: 0.2174\n",
      "Epoch 6/10\n",
      "1094/1094 [==============================] - 45s 41ms/step - loss: 4.6107 - accuracy: 0.2128 - val_loss: 4.5153 - val_accuracy: 0.2217\n",
      "Epoch 7/10\n",
      "1094/1094 [==============================] - 44s 41ms/step - loss: 4.5625 - accuracy: 0.2171 - val_loss: 4.4712 - val_accuracy: 0.2257\n",
      "Epoch 8/10\n",
      "1094/1094 [==============================] - 44s 41ms/step - loss: 4.5188 - accuracy: 0.2211 - val_loss: 4.4309 - val_accuracy: 0.2293\n",
      "Epoch 9/10\n",
      "1094/1094 [==============================] - 45s 42ms/step - loss: 4.4785 - accuracy: 0.2251 - val_loss: 4.3935 - val_accuracy: 0.2330\n",
      "Epoch 10/10\n",
      "1094/1094 [==============================] - 45s 42ms/step - loss: 4.4413 - accuracy: 0.2291 - val_loss: 4.3588 - val_accuracy: 0.2370\n"
     ]
    },
    {
     "data": {
      "text/plain": [
       "<keras.callbacks.History at 0x194e81eabe0>"
      ]
     },
     "execution_count": 12,
     "metadata": {},
     "output_type": "execute_result"
    }
   ],
   "source": [
    "transformer.compile(\n",
    "    optimizer=\"SGD\",\n",
    "    loss=\"sparse_categorical_crossentropy\",\n",
    "    metrics=[\"accuracy\"])\n",
    "transformer.fit(train_ds, epochs=10, validation_data=val_ds)"
   ]
  },
  {
   "cell_type": "code",
   "execution_count": 13,
   "metadata": {
    "colab": {
     "base_uri": "https://localhost:8080/"
    },
    "id": "_h6nkceEYpUH",
    "outputId": "2ecbab88-599d-4f28-b16c-9f2f2f147224"
   },
   "outputs": [
    {
     "name": "stdout",
     "output_type": "stream",
     "text": [
      "[['the', 'sword', 'of', 'hajya', 'é', 'uma', 'continuação', 'direta', 'da', 'história', 'de', 'shining', 'force', 'gaiden;', 'este', 'jogo', 'se', 'passa', 'apenas', 'dois', 'meses', 'depois', 'e', 'cobre', 'a', 'resolução', 'da', 'guerra', 'entre', 'as', 'forças', 'de', 'cypress', 'e', 'os', 'seguidores', 'de', 'iom.']]\n",
      "['em', '[unk]', '[unk]', '[unk]', '[unk]', '[unk]', '[unk]', '[unk]', '[unk]', '[unk]', '[unk]', '[unk]', '[unk]', '[unk]', '[unk]', '[unk]']\n",
      "4-gram BLEU: 0.001\n"
     ]
    }
   ],
   "source": [
    "# Testar o desempenho do Transformer em frases do conjunto de teste\n",
    "\n",
    "import numpy as np\n",
    "pt_vocab = target_vectorization.get_vocabulary()\n",
    "pt_index_lookup = dict(zip(range(len(pt_vocab)), pt_vocab))\n",
    "max_decoded_sentence_length = 20\n",
    "\n",
    "def decode_sequence(input_sentence):\n",
    "    tokenized_input_sentence = source_vectorization([input_sentence])\n",
    "    decoded_sentence = \"[start]\"\n",
    "    for i in range(max_decoded_sentence_length):\n",
    "        tokenized_target_sentence = target_vectorization(\n",
    "            [decoded_sentence])[:, :-1]\n",
    "        predictions = transformer(\n",
    "            [tokenized_input_sentence, tokenized_target_sentence])\n",
    "        sampled_token_index = np.argmax(predictions[0, i, :])\n",
    "        sampled_token = pt_index_lookup[sampled_token_index]\n",
    "        decoded_sentence += \" \" + sampled_token\n",
    "        if sampled_token == \"[end]\":\n",
    "            break\n",
    "    return decoded_sentence\n",
    "\n",
    "def decode_sequence_wout_startend(input_sentence):\n",
    "    tokenized_input_sentence = source_vectorization([input_sentence])\n",
    "    decoded_sentence = \"[start]\"\n",
    "    for i in range(max_decoded_sentence_length):\n",
    "        tokenized_target_sentence = target_vectorization(\n",
    "            [decoded_sentence])[:, :-1]\n",
    "        predictions = transformer(\n",
    "            [tokenized_input_sentence, tokenized_target_sentence])\n",
    "        sampled_token_index = np.argmax(predictions[0, i, :])\n",
    "        sampled_token = pt_index_lookup[sampled_token_index]\n",
    "        decoded_sentence += \" \" + sampled_token\n",
    "        if sampled_token == \"[end]\":\n",
    "            break\n",
    "    return decoded_sentence.replace(\"[start]\", \"\").replace(\"[end]\", \"\")\n",
    "\n",
    "bleu_pt_list = []\n",
    "bleu_translation_list = []\n",
    "\n",
    "for _ in range(100):\n",
    "    pair = random.choice(test_pairs)\n",
    "    # Dividir o pares em listas de palavras, meter tudo em lower case e retirar start/end\n",
    "    es_text = pair[0].lower().split(\" \")\n",
    "    pt_text = pair[1].replace(\"[start]\", \"\").replace(\"[end]\", \"\").lower().split(\" \")\n",
    "    \n",
    "    while len(es_text) <= 4 or len(pt_text) <= 4:\n",
    "        pair = random.choice(test_pairs)\n",
    "        es_text = pair[0].lower().split(\" \")\n",
    "        pt_text = pair[1].replace(\"[start]\", \"\").replace(\"[end]\", \"\").lower().split(\" \")\n",
    "        \n",
    "    # Traduzir a frase\n",
    "    translation = decode_sequence_wout_startend(pair[0]).lower().split(\" \")\n",
    "    \n",
    "    # Filtrar strings vazias\n",
    "    pt_text = list(filter(None, pt_text))\n",
    "    translation = list(filter(None, translation))\n",
    "    bleu_pt_list.append([pt_text])\n",
    "    bleu_translation_list.append(translation)\n",
    "\n",
    "print(bleu_pt_list[0])\n",
    "print(bleu_translation_list[0])\n",
    "\n",
    "# Calcular cumullative 4-gram BLEU\n",
    "gram4 = corpus_bleu(bleu_pt_list, bleu_translation_list, weights=(0.25, 0.25, 0.25, 0.25), smoothing_function=SmoothingFunction().method1)\n",
    "print(f'4-gram BLEU: {round(np.mean(gram4),3)}')"
   ]
  },
  {
   "cell_type": "code",
   "execution_count": 14,
   "metadata": {},
   "outputs": [
    {
     "name": "stdout",
     "output_type": "stream",
     "text": [
      "-\n",
      "Ahora mi vida ha cambiado, sin razón aparente.\n",
      "[start] [UNK] [UNK] [UNK] [end]\n",
      "-\n",
      "El mazo puede contener un máximo de cuatro cartas de oro diferentes y seis cartas de plata diferentes.\n",
      "[start] o [UNK] [UNK] [UNK] um [UNK] de [UNK] [UNK] de [UNK] [end]\n",
      "-\n",
      "Esta agrupación, después de firmar un contrato con Universal Music, se cambió el nombre a «Tokio Hotel».\n",
      "[start] a [UNK] foi um [UNK] de [UNK] de [UNK] [UNK] [UNK] [end]\n",
      "-\n",
      "El verdadero nombre de Angel es Jennifer Kita.\n",
      "[start] o [UNK] [UNK] de [UNK] [end]\n",
      "-\n",
      "MacGregor ha desempeñado una variedad de papeles en la televisión desde el 2000.\n",
      "[start] [UNK] [UNK] [UNK] um [UNK] de [UNK] em inglês [end]\n",
      "-\n",
      "Esto marcó un hito, ya que fue la cantidad más alta que se había pagado hasta entonces por derechos de autor.\n",
      "[start] o [UNK] um [UNK] um [UNK] que o [UNK] que se [UNK] que se [UNK] que o [UNK] [end]\n",
      "-\n",
      "La vereda posee una belleza natural única.\n",
      "[start] a [UNK] [UNK] [UNK] [UNK] [UNK] [end]\n",
      "-\n",
      "Después de que Indonesia obtuviese su independencia en 1945, la mayoría de los Belanda Hitam emigraron a los Países Bajos, ya que habían sido soldados del Ejército de las Indias Orientales Neerlandesas.\n",
      "[start] [UNK] de [UNK] que [UNK] [UNK] [UNK] [UNK] [UNK] a [UNK] [UNK] [UNK] [UNK] [UNK] [UNK] [UNK] [end]\n",
      "-\n",
      "Debido a la a veces naturaleza sensacionalística de los anuncios y de la cuestionable naturaleza de algunos productos, los defensores del consumidor recomiendan la cuidadosa investigación del patrocinador del comercial, el producto que se vende, y las afirmaciones hechas sobre el producto antes de hacer una compra.\n",
      "[start] [UNK] a [UNK] a [UNK] a [UNK] de [UNK] [UNK] e [UNK] e [UNK] e [UNK] [end]\n",
      "-\n",
      "También posee varios solos de guitarra y piano.\n",
      "[start] [UNK] [UNK] é um [UNK] de [UNK] [end]\n"
     ]
    }
   ],
   "source": [
    "test_eng_texts = [pair[0] for pair in test_pairs]\n",
    "for _ in range(10):\n",
    "    input_sentence = random.choice(test_eng_texts)\n",
    "    print(\"-\")\n",
    "    print(input_sentence)\n",
    "    print(decode_sequence(input_sentence))"
   ]
  }
 ],
 "metadata": {
  "accelerator": "GPU",
  "colab": {
   "collapsed_sections": [],
   "name": "AD - TP2.ipynb",
   "provenance": []
  },
  "kernelspec": {
   "display_name": "Python 3",
   "language": "python",
   "name": "python3"
  },
  "language_info": {
   "codemirror_mode": {
    "name": "ipython",
    "version": 3
   },
   "file_extension": ".py",
   "mimetype": "text/x-python",
   "name": "python",
   "nbconvert_exporter": "python",
   "pygments_lexer": "ipython3",
   "version": "3.8.8"
  }
 },
 "nbformat": 4,
 "nbformat_minor": 4
}
